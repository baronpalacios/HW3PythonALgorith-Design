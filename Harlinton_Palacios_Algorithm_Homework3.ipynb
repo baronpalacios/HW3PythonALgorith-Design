{
 "cells": [
  {
   "cell_type": "markdown",
   "metadata": {},
   "source": [
    "###                                  <center> CSE505 Algorithms  <center>\n",
    "###                                               <center> Homework 3 </center>\n",
    "###                                    <center>   Harlinton Palacios Mosquera </center>\n",
    "                                   \n",
    "###                                       <center>  ID: 161041033  </center>                                        \n",
    "                             "
   ]
  },
  {
   "cell_type": "code",
   "execution_count": null,
   "metadata": {},
   "outputs": [],
   "source": []
  },
  {
   "cell_type": "markdown",
   "metadata": {},
   "source": [
    "## 1) <center>Breadth-First Search (BFS) and  Depth-First Search (DFS)</center> "
   ]
  },
  {
   "cell_type": "markdown",
   "metadata": {},
   "source": [
    "### <center>Load the Data and Prepare Them </center> "
   ]
  },
  {
   "cell_type": "code",
   "execution_count": 1,
   "metadata": {},
   "outputs": [
    {
     "data": {
      "text/plain": [
       "{1: [2, 3, 4, 5, 8],\n",
       " 2: [4],\n",
       " 3: [5, 6, 9],\n",
       " 4: [5],\n",
       " 5: [6],\n",
       " 6: [7],\n",
       " 7: [8, 10],\n",
       " 8: [9, 10],\n",
       " 9: [10],\n",
       " 10: []}"
      ]
     },
     "execution_count": 1,
     "metadata": {},
     "output_type": "execute_result"
    }
   ],
   "source": [
    "import xlrd\n",
    "workbook = xlrd.open_workbook(\"Graph_data.XLS\",\"rb\")\n",
    "sheet = workbook.sheet_by_index(0)\n",
    "l1 = []\n",
    "l2 = []\n",
    "for i in range(sheet.nrows):\n",
    "    columns = []\n",
    "    for j in range(sheet.ncols):\n",
    "        columns.append(sheet.cell(i, j).value)\n",
    "    l1.append(columns[0])\n",
    "    l2.append(columns[1])\n",
    "\n",
    "import numpy\n",
    "l1 = numpy.asarray(l1, dtype=int)\n",
    "l2 = numpy.asarray(l2,dtype=int)\n",
    "uniques = list(numpy.unique(l1))+list(numpy.unique(l2))\n",
    "\n",
    "harlinton = {}\n",
    "for i in numpy.unique(uniques):\n",
    "    a =list(l2[numpy.where(l1 == i)[0]])\n",
    "    #b =list(l1[numpy.where(l2 == i)[0]])\n",
    "    c = list(numpy.unique(a))\n",
    "    harlinton[i] = c\n",
    "    \n",
    "harlinton ## This is the Adjacency matrix "
   ]
  },
  {
   "cell_type": "markdown",
   "metadata": {},
   "source": [
    "### <center>BFS Implementation </center> "
   ]
  },
  {
   "cell_type": "markdown",
   "metadata": {},
   "source": [
    "## Time Complexity of BFS: \n",
    "perform containing checks (w in visited) O(1) rather than O(n) for lists. if the implementation is as adjacency matrix, you will traverse O(V^2) which may be O(E) if that is a dense graph."
   ]
  },
  {
   "cell_type": "code",
   "execution_count": 2,
   "metadata": {},
   "outputs": [
    {
     "name": "stdout",
     "output_type": "stream",
     "text": [
      "[1, 2, 3, 4, 5, 8, 6, 9, 10, 7]\n"
     ]
    }
   ],
   "source": [
    "# visits all the nodes of a graph (connected component) using BFS\n",
    "def bfs_connected_component(graph, start):\n",
    "    # keep track of all visited nodes\n",
    "    explored = []\n",
    "    # keep track of nodes to be checked\n",
    "    queue = [start]\n",
    "    levels = {}         # this dict keeps track of levels\n",
    "    levels[start]= 1    # depth of start node is 0\n",
    "    visited= [start]     # to avoid inserting the same node twice into the queue\n",
    "    # keep looping until there are nodes still to be checked\n",
    "    while queue:\n",
    "       # pop shallowest node (first node) from queue\n",
    "        node = queue.pop(0)\n",
    "        explored.append(node)\n",
    "        neighbours = graph[node]\n",
    "\n",
    "        # add neighbours of node to queue\n",
    "        for neighbour in neighbours:\n",
    "            if neighbour not in visited:\n",
    "                queue.append(neighbour)\n",
    "                visited.append(neighbour)\n",
    "                levels[neighbour]= levels[node]+1\n",
    "                #print(neighbour, \">>\", levels[neighbour])\n",
    "    #print(levels)\n",
    "    return explored\n",
    "ans = bfs_connected_component(harlinton, 1) \n",
    "print(ans)"
   ]
  },
  {
   "cell_type": "markdown",
   "metadata": {},
   "source": [
    "### <center>DFS Implementation </center> "
   ]
  },
  {
   "cell_type": "markdown",
   "metadata": {},
   "source": [
    "## Time Complexity of DFS: \n",
    "Only if the graph is represented as an adjacency list O(1)+O(V)+O(E)=  O(V)+O(E)\n",
    "The complexity is O(V2). This is because a traversal in the entire row is required to evaluate the neighbours."
   ]
  },
  {
   "cell_type": "code",
   "execution_count": 3,
   "metadata": {},
   "outputs": [
    {
     "name": "stdout",
     "output_type": "stream",
     "text": [
      "[1, 2, 4, 5, 6, 7, 8, 9, 10, 3]\n"
     ]
    }
   ],
   "source": [
    "def dfs(graph, node, visited):\n",
    "    if node not in visited:\n",
    "        visited.append(node)\n",
    "        for n in graph[node]:\n",
    "            dfs(graph,n, visited)\n",
    "    return visited\n",
    "\n",
    "visited = dfs(harlinton,1, [])\n",
    "print(visited)\n"
   ]
  },
  {
   "cell_type": "markdown",
   "metadata": {},
   "source": [
    "## 2-) One-Pile NIM"
   ]
  },
  {
   "cell_type": "markdown",
   "metadata": {},
   "source": [
    "For the implementation of this game we used an algorithm Variable-Size-Decrease, In this variation, the size-reduction pattern varies from one iteration of an algorithm to another.\n",
    "\n",
    "In this algorithm we can play with computer or with otro player.\n",
    "\n",
    "Time Complexity: O(log log n)). In worst case it can take upto O(n)."
   ]
  },
  {
   "cell_type": "code",
   "execution_count": 4,
   "metadata": {},
   "outputs": [
    {
     "name": "stdout",
     "output_type": "stream",
     "text": [
      "Who do you want to play with?. With Machine press (0)-- With another player (1)1\n",
      "Enter your name Pleyer 1.Harlinton\n",
      "Enter your name  Pleyer 2.Baron\n",
      "\u001b[94mThe initial number of straws is:  16\n",
      "It's your turn,  Baron\n",
      "How many chips do you want to remove?(from 1 to 3) 3\n",
      "The number of straws left: \u001b[91m 13\n",
      "It's your turn,  Harlinton\n",
      "How many chips do you want to remove?(from 1 to 3) 2\n",
      "The number of straws left: \u001b[91m 11\n",
      "It's your turn,  Baron\n",
      "How many chips do you want to remove?(from 1 to 3) 3\n",
      "The number of straws left: \u001b[91m 8\n",
      "It's your turn,  Harlinton\n",
      "How many chips do you want to remove?(from 1 to 3) 1\n",
      "The number of straws left: \u001b[91m 7\n",
      "It's your turn,  Baron\n",
      "How many chips do you want to remove?(from 1 to 3) 3\n",
      "The number of straws left: \u001b[91m 4\n",
      "It's your turn,  Harlinton\n",
      "How many chips do you want to remove?(from 1 to 3) 2\n",
      "The number of straws left: \u001b[91m 2\n",
      "It's your turn,  Baron\n",
      "How many chips do you want to remove?(from 1 to 3) 2\n",
      "The number of straws left: \u001b[91m 0\n",
      "Baron \u001b[92m You wins.\n"
     ]
    }
   ],
   "source": [
    "## import random\n",
    "import random\n",
    "global opction\n",
    "howMany=0\n",
    "gameover=False\n",
    "chipsNumber= random.randint(10,20)\n",
    "class color:\n",
    "   PURPLE = '\\033[95m'\n",
    "   CYAN = '\\033[96m'\n",
    "   DARKCYAN = '\\033[36m'\n",
    "   BLUE = '\\033[94m'\n",
    "   GREEN = '\\033[92m'\n",
    "   YELLOW = '\\033[93m'\n",
    "   RED = '\\033[91m'\n",
    "   BOLD = '\\033[1m'\n",
    "   UNDERLINE = '\\033[4m'\n",
    "   END = '\\033[0m'\n",
    "    \n",
    "\n",
    "while True:\n",
    "    opction=input( color.BOLD + \"Who do you want to play with?. With Machine press (0)-- With another player (1)\" + color.END)\n",
    "    try:\n",
    "        opction = int(opction)\n",
    "        if opction in  [0,1]:\n",
    "            if opction == 0:\n",
    "                player1=str(input(\"Enter your name Pleyer 1.\"))\n",
    "                player2_h= \"\"\n",
    "                player2=\"Computer\"\n",
    "                break\n",
    "            elif opction ==1 :\n",
    "                player2=\"\"\n",
    "                player1=str(input(\"Enter your name Pleyer 1.\"))\n",
    "                player2_h=str(input(\"Enter your name  Pleyer 2.\"))           \n",
    "                  \n",
    "                                \n",
    "            \n",
    "            break        \n",
    "        print (\"False value\")        \n",
    "        \n",
    "    except ValueError:\n",
    "        print(\"Enter a nomber.\")\n",
    "        \n",
    "\n",
    "\n",
    "if (chipsNumber%4)==1:\n",
    "    chipsNumber+=1\n",
    "\n",
    "def removingStrawsComputer():\n",
    "    removedNumber=random.randint(1,3)\n",
    "    global chipsNumber\n",
    "    while removedNumber>chipsNumber:\n",
    "        removedNumber=random.randint(1,3)\n",
    "    chipsNumber-=removedNumber\n",
    "    return chipsNumber\n",
    "\n",
    "def removingStrawsHuman():\n",
    "    global chipsNumber\n",
    "    chipsNumber-=howMany\n",
    "    return chipsNumber\n",
    "#________________________________________________________________________________\n",
    "def humanLegalMove():\n",
    "    global howMany\n",
    "    legalMove=False\n",
    "    while not legalMove:\n",
    "        print(\"It's your turn, \",player1)\n",
    "        howMany=int(input(\"How many chips do you want to remove?(from 1 to 3) \"))\n",
    "        if  howMany>3 or howMany<1:\n",
    "            print(\"Enter a number between 1 and 3.\")\n",
    "        else:\n",
    "            legalMove=True\n",
    "    while howMany>chipsNumber:\n",
    "        print(\"The entered number is greater than a number of chips remained.\")\n",
    "        howMany=int(input(\"How many chips do you want to remove?\"))\n",
    "    return howMany\n",
    "\n",
    "#________________________________________________________________________________\n",
    "def humanLegalMove1():\n",
    "    global howMany\n",
    "    legalMove=False\n",
    "    while not legalMove:\n",
    "        print(\"It's your turn, \",player2_h)\n",
    "        howMany=int(input(\"How many chips do you want to remove?(from 1 to 3) \"))\n",
    "        if  howMany>3 or howMany<1:\n",
    "            print(\"Enter a number between 1 and 3.\")\n",
    "        else:\n",
    "            legalMove=True\n",
    "    while howMany>chipsNumber:\n",
    "        print(\"The entered number is greater than a number of chips remained.\")\n",
    "        howMany=int(input(\"How many chips do you want to remove?\"))\n",
    "    return howMany\n",
    "#________________________________________________________________________________\n",
    "\n",
    "\n",
    "def checkWinner(player):\n",
    "    if chipsNumber==0:\n",
    "        print(player,'\\033[92m'+ \" You wins.\")\n",
    "        global gameover\n",
    "        gameover=True\n",
    "        return gameover\n",
    "\n",
    "def resetGameover():\n",
    "    global gameover\n",
    "    gameover=False\n",
    "    return gameover\n",
    "\n",
    "def game():  \n",
    "    \n",
    "    print ( '\\033[94m' + \"The initial number of straws is: \", + chipsNumber )\n",
    "    \n",
    "    if player2_h == \"\" and player2 == \"Computer\" :\n",
    "        while gameover==False:\n",
    "            print(\"It's \",player2,\"turn. The number of straws left: \",removingStrawsComputer())\n",
    "            checkWinner(player1)\n",
    "            if gameover==True:\n",
    "                break\n",
    "            humanLegalMove()\n",
    "            print(\"The number of straws left: \" + '\\033[91m',removingStrawsHuman())\n",
    "            checkWinner(player2)\n",
    "    else:\n",
    "        while gameover==False:\n",
    "            \n",
    "            humanLegalMove1()\n",
    "            print(\"The number of straws left: \" + '\\033[91m',removingStrawsHuman())\n",
    "            checkWinner(player2_h)\n",
    "            \n",
    "            \n",
    "            if gameover==True:\n",
    "                break\n",
    "                \n",
    "            humanLegalMove()\n",
    "            print(\"The number of straws left: \" + '\\033[91m',removingStrawsHuman())\n",
    "            checkWinner(player2)\n",
    "        \n",
    "game()"
   ]
  },
  {
   "attachments": {
    "image.png": {
     "image/png": "[encoded data removed]"
    }
   },
   "cell_type": "markdown",
   "metadata": {},
   "source": [
    " ## 3) Divideand- Conquer Algorithm\n",
    "To finds out tha whether there is an index i for which A[i]=i. To give the solution to this problem, we used <h5>Binary search.</h5>\n",
    "\n",
    "Tiime Complexity: For the number of comparisons we get the following recursion:\n",
    "T(n) = T(n/2) + 1; T(1) = 1\n",
    "By the Master Theorem, since we have\n",
    "a = 1, b= 2.\n",
    "![image.png](attachment:image.png)\n",
    "\n",
    "thus\n",
    "\n",
    "##### T(n) = O(logn)\n",
    "\n",
    "Implementation below."
   ]
  },
  {
   "cell_type": "code",
   "execution_count": 5,
   "metadata": {},
   "outputs": [
    {
     "name": "stdout",
     "output_type": "stream",
     "text": [
      "There is equal index : 4\n"
     ]
    }
   ],
   "source": [
    "# Python program to check fixed point  \n",
    "# in an array using binary search \n",
    "def binarySearch(arrayingers, smallnumber, largenumber):      \n",
    "    \n",
    "    #divide the list into two parts\n",
    "    if largenumber >= smallnumber: \n",
    "        mid = int((smallnumber + largenumber)/2)\n",
    "        midvalue = arrayingers[mid]\n",
    "    else:\n",
    "        return -1\n",
    "        \n",
    "    #  We compare A [m] with m.\n",
    "    if (mid == midvalue):\n",
    "        return mid\n",
    "    # Continue in the letf half to find the equal index.\n",
    "    if mid > arr[mid]: \n",
    "        return binarySearch(arrayingers, (mid + 1), largenumber) \n",
    "    else: \n",
    "        return binarySearch(arrayingers, smallnumber, (mid -1)) \n",
    "      \n",
    "    # if there is no A[i]=i \n",
    "    return -1\n",
    "  \n",
    "arrayingers = [-1, 1, 2, 3, 4, 11, 23, 30, 43] \n",
    "n = len(arrayingers) \n",
    "\n",
    "findout = int(binarySearch(arrayingers, 0, n-1)) \n",
    "\n",
    "if findout == -1:\n",
    "    print (\"There is no equal indix\")\n",
    "    \n",
    "else:\n",
    "    print(\"There is equal index : \" + str(binarySearch(arrayingers, 0, n-1))) "
   ]
  },
  {
   "cell_type": "markdown",
   "metadata": {},
   "source": [
    "## 4) Divide- Conquer Algorithm for Contiguous Subset with the largest sum\n",
    "\n",
    "## Tieme complexity: \n",
    "Initial call: MaxSubarray( listnum, a, z)\n",
    "\n",
    "Base case is when the subarray has only 1 element.\n",
    "So, the time complexity of Divide and Conque solution, we make two recursive call on input size n/2 and finding maximum subarray. \n",
    "in the worst case takes O(n).\n",
    "\n",
    "So, the recurrence relaction is:\n",
    "### T(n) = 2T(n/2) + Θ(n)\n",
    "\n",
    "\n",
    "\n",
    "#####  T(n)= n(nlog n)"
   ]
  },
  {
   "cell_type": "code",
   "execution_count": 6,
   "metadata": {},
   "outputs": [
    {
     "name": "stdout",
     "output_type": "stream",
     "text": [
      "6,7,-6,7, The contiguous subset Sum :  14\n"
     ]
    }
   ],
   "source": [
    "full = [5, -6, 6, 7, -6, 7, -4, 3]\n",
    "indices = []\n",
    "\n",
    "def maxSubArraySum(listnum, a, z):\n",
    "    if a == z:\n",
    "        global indices\n",
    "\n",
    "        # return sum of range and it's left and right index\n",
    "        return listnum[a], (a,z)\n",
    "    mid = (a+z)//2\n",
    "    return max(maxSubArraySum(listnum,a,mid),maxSubArraySum(listnum,mid+1,z),straddleSum(listnum,a,mid,z), key= lambda x: x[0])\n",
    "\n",
    "\n",
    "def straddleSum(listnum, a, m, z):\n",
    "    right = -(2**31)-1\n",
    "    left = -(2**31)-1\n",
    "    index = 0 \n",
    "    \n",
    "\n",
    "    lpos = rpos= None   # left and right index of max range\n",
    "\n",
    "    count = 0\n",
    "    for i in range(m,a-1,-1):\n",
    "        count = count + listnum[i]\n",
    "        if count > left:\n",
    "            left = count\n",
    "            lpos = i\n",
    "\n",
    "    count = 0\n",
    "    for i in range(m+1,z+1):\n",
    "        count = count + listnum[i]\n",
    "        if count > right:\n",
    "            right = count\n",
    "            rpos = i               \n",
    "\n",
    "    # return sum of range and it's left and right index\n",
    "    return right + left, (lpos, rpos)\n",
    "\n",
    "msum, msumb_range = maxSubArraySum(full, 0, len(full)-1)\n",
    "index=0\n",
    "p1, p2 =  msumb_range\n",
    "\n",
    "for element in full[p1:p2+1]:\n",
    "    print(element, end=',')\n",
    "print(\" The contiguous subset Sum : \", msum)"
   ]
  },
  {
   "cell_type": "markdown",
   "metadata": {},
   "source": [
    "### 5) Algorithm that checks whether a given pattern is valid on a given string\n",
    "\n",
    "The  Time complexity is O(n^(2m)) where m is the length of the pattern and n is the length of the string"
   ]
  },
  {
   "cell_type": "code",
   "execution_count": 56,
   "metadata": {},
   "outputs": [
    {
     "name": "stdout",
     "output_type": "stream",
     "text": [
      "Pattern is valid\n"
     ]
    }
   ],
   "source": [
    "def  wordpattern1(pattern, string):\n",
    "    p = pattern\n",
    "\n",
    "    for c in pattern:\n",
    "        C = c.upper()\n",
    "        p = p.replace(c,\"(?P<{0}>.+)\".format(C),1)\n",
    "        p = p.replace(c,\"(?P={0})\".format(C),len(pattern))\n",
    "    p = '^' + p + '$'\n",
    "\n",
    "    \n",
    "    if re.search(p,string):\n",
    "        rem = re.match(p,string)\n",
    "        seen = {}\n",
    "        \n",
    "        for c in pattern:\n",
    "            s = rem.group(c.upper())\n",
    "            \n",
    "            if s in seen and seen[s] != c:\n",
    "                return 0\n",
    "            seen[s] = c\n",
    "        # success\n",
    "            return  1\n",
    "    # did not hit the search, fail\n",
    "    return 0\n",
    "\n",
    "string = 'tobeornottobe'\n",
    "pattern= 'abcdab'\n",
    "check = wordpattern1(pattern,string)\n",
    "if check == 1:\n",
    "    print(\"Pattern is valid\")\n",
    "else:\n",
    "    print(\"Pattern is not valid\")"
   ]
  }
 ],
 "metadata": {
  "kernelspec": {
   "display_name": "Python 3",
   "language": "python",
   "name": "python3"
  },
  "language_info": {
   "codemirror_mode": {
    "name": "ipython",
    "version": 3
   },
   "file_extension": ".py",
   "mimetype": "text/x-python",
   "name": "python",
   "nbconvert_exporter": "python",
   "pygments_lexer": "ipython3",
   "version": "3.6.5"
  }
 },
 "nbformat": 4,
 "nbformat_minor": 2
}
